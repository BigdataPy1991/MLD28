{
 "cells": [
  {
   "cell_type": "code",
   "execution_count": 5,
   "metadata": {},
   "outputs": [
    {
     "data": {
      "text/plain": [
       "[1, 2, 12, 4]"
      ]
     },
     "execution_count": 5,
     "metadata": {},
     "output_type": "execute_result"
    }
   ],
   "source": [
    "#Write a program which accepts a sequence of comma-separated numbers from console and generate a list. \n",
    "\n",
    "def gen_list(seq):\n",
    "    seq_to_list=list(seq)\n",
    "    return seq_to_list\n",
    "\n",
    "#ANOTHER APPROACH\n",
    "\n",
    "def gen_list1(seq):\n",
    "    newl=[]\n",
    "    for i in seq:\n",
    "        newl.append(i)\n",
    "    return newl\n",
    "\n",
    "gen_list1((1,2,12,4))\n"
   ]
  },
  {
   "cell_type": "code",
   "execution_count": 13,
   "metadata": {},
   "outputs": [
    {
     "name": "stdout",
     "output_type": "stream",
     "text": [
      "\n",
      "* \n",
      "* * \n",
      "* * * \n",
      "* * * * \n",
      "* * * * * \n",
      "* * * * \n",
      "* * * \n",
      "* * \n",
      "* \n",
      "\n"
     ]
    }
   ],
   "source": [
    "#1. Create the below pattern using nested for loop in Python. \n",
    "\n",
    "def gen_pattern():\n",
    "    for i in range(6):\n",
    "        print('* '*i)\n",
    "    for i in reversed(range(i)):\n",
    "            print('* '*(i))\n",
    "               \n",
    "gen_pattern()   "
   ]
  },
  {
   "cell_type": "code",
   "execution_count": 19,
   "metadata": {},
   "outputs": [
    {
     "data": {
      "text/plain": [
       "'norueni'"
      ]
     },
     "execution_count": 19,
     "metadata": {},
     "output_type": "execute_result"
    }
   ],
   "source": [
    "# Write a Python program to reverse a word after accepting the input from the user. \n",
    "# Sample Output: \n",
    "# Input word: ineuron \n",
    "# Output: norueni \n",
    "def rev_str(in_str):\n",
    "    rev_str=\"\"\n",
    "    for i in reversed(range(len(in_str))):\n",
    "        rev_str=rev_str+in_str[i]\n",
    "        \n",
    "    return rev_str   \n",
    "rev_str(\"ineuron\")"
   ]
  },
  {
   "cell_type": "code",
   "execution_count": null,
   "metadata": {},
   "outputs": [],
   "source": []
  }
 ],
 "metadata": {
  "kernelspec": {
   "display_name": "Python 3",
   "language": "python",
   "name": "python3"
  },
  "language_info": {
   "codemirror_mode": {
    "name": "ipython",
    "version": 3
   },
   "file_extension": ".py",
   "mimetype": "text/x-python",
   "name": "python",
   "nbconvert_exporter": "python",
   "pygments_lexer": "ipython3",
   "version": "3.7.4"
  }
 },
 "nbformat": 4,
 "nbformat_minor": 2
}
